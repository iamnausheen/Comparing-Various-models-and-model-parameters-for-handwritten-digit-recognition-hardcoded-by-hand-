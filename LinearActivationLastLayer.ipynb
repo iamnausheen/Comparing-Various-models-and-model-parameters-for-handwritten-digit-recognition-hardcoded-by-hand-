{
 "cells": [
  {
   "cell_type": "code",
   "execution_count": null,
   "id": "f6b1aa95-e352-428a-91c3-61ca19ed845d",
   "metadata": {},
   "outputs": [],
   "source": [
    "# Using linear activation function just for last layer sigmoid for rest\n",
    "# This is supposed to solve the problem of neurons getting saturated at wrong outputs when weights and biases are set randomly.\n",
    "# However, it does not give good results with digit recognition"
   ]
  },
  {
   "cell_type": "code",
   "execution_count": 1,
   "id": "e361e0bf-976f-4225-bb83-0398b667d617",
   "metadata": {},
   "outputs": [],
   "source": [
    "import numpy as np\n",
    "import pandas as pd\n",
    "import random"
   ]
  },
  {
   "cell_type": "code",
   "execution_count": 5,
   "id": "04d8fc80-ca05-40e4-841d-8f80524fb65b",
   "metadata": {},
   "outputs": [],
   "source": [
    "class Network():\n",
    "    def __init__(self, sizes):\n",
    "        self.num_layers = len(sizes)\n",
    "        self.sizes = sizes \n",
    "        self.weights = [np.random.randn(y, x) for x, y in zip(sizes[:-1], sizes[1:])]  # y = output layer, x = input layer\n",
    "        self.biases = [np.random.randn(y, 1) for y in sizes[1: ]]\n",
    "    \n",
    "    # Calculating output of the network = activations of last layer\n",
    "    def feedforward(self, a):                # a is a (n, 1) ndnumpy array not an (n, ) vector\n",
    "        for w, b in zip(self.weights, self.biases):\n",
    "            a = sigmoid(np.dot(w, a) + b)             \n",
    "        return a \n",
    "\n",
    "    # training_data is a list of tuples (x, y),  x = column array of pixel grayscale value , y = column vector of correct output activations \n",
    "    def SGD(self, training_data, epochs, mini_batch_size, eta, test_data=None):\n",
    "        if test_data : n_test = len(test_data)\n",
    "        n = len(training_data)\n",
    "        for i in range(epochs):\n",
    "            random.shuffle(training_data)\n",
    "            mini_batches = [training_data[j : j + mini_batch_size] for j in range(0, n, mini_batch_size)]\n",
    "\n",
    "            for mini_batch in mini_batches:\n",
    "                self.update_mini_batch(mini_batch, eta)\n",
    "\n",
    "            if test_data:\n",
    "                print(f\"Epoch {i} : {self.evaluate(test_data)}/{len(test_data)}\")\n",
    "            else:\n",
    "                print(f\"Epoch {i} completed\")\n",
    "\n",
    "    def update_mini_batch(self, mini_batch, eta):\n",
    "        gsum_w = [np.zeros(w.shape) for w in self.weights]\n",
    "        gsum_b = [np.zeros(b.shape) for b in self.biases]\n",
    "\n",
    "        for (x, y) in mini_batch:\n",
    "            grad_w, grad_b = self.backprop(x, y)\n",
    "            gsum_w = [gsw + gw for gsw, gw in zip(gsum_w, grad_w)]\n",
    "            gsum_b = [gsb + gb for gsb, gb in zip(gsum_b, grad_b)]\n",
    "\n",
    "        self.weights = [w - (eta/len(mini_batch))*gsw for w, gsw in zip(self.weights, gsum_w)]\n",
    "        self.biases = [b - (eta/len(mini_batch))*gsb for b, gsb in zip(self.biases, gsum_b)]\n",
    "\n",
    "    def backprop(self, x, y):\n",
    "        gradient_w = [np.zeros(w.shape) for w in self.weights]\n",
    "        gradient_b = [np.zeros(b.shape) for b in self.biases]\n",
    "\n",
    "        activation = x\n",
    "        activations = [x]\n",
    "        z_list = []\n",
    "\n",
    "        for w, b in zip(self.weights[:-1], self.biases[:-1]):\n",
    "            z = np.dot(w, activation) + b\n",
    "            z_list.append(z)\n",
    "            activation = sigmoid(z)\n",
    "            activations.append(activation)\n",
    "\n",
    "        z = np.dot(self.weights[-1], activation) + self.biases[-1]\n",
    "        z_list.append(z)\n",
    "        activation = z[-1]\n",
    "        activations.append(activation)\n",
    "\n",
    "        delta = self.cost_derivative(activations[-1], y)*sigmoid_prime(z_list[-1])\n",
    "        gradient_w[-1] = np.dot(delta, activations[-2].T)\n",
    "        gradient_b[-1] = delta\n",
    "\n",
    "        for l in range(2, self.num_layers):\n",
    "            sp = sigmoid_prime(z_list[-l])\n",
    "            delta = np.dot(self.weights[-l + 1].T, delta)*sp\n",
    "            gradient_w[-l] = np.dot(delta, activations[-l -1].T)\n",
    "            gradient_b[-l] = delta\n",
    "        return (gradient_w, gradient_b)\n",
    "\n",
    "    def cost_derivative(self, output_activations, true_activations):\n",
    "        return (output_activations - true_activations)\n",
    "\n",
    "    def evaluate(self, test_data):\n",
    "        test_results = [(np.argmax(self.feedforward(x)), y) for (x, y) in test_data]\n",
    "        sum = 0\n",
    "        for (x, y) in test_results:\n",
    "            if x == y: sum += 1\n",
    "        return sum\n",
    "\n",
    "def sigmoid_prime(z):\n",
    "    return sigmoid(z)*(1.0 - sigmoid(z))\n",
    "\n",
    "def sigmoid(z):\n",
    "    return 1.0/(1.0 + np.exp(-z))\n",
    "        "
   ]
  },
  {
   "cell_type": "code",
   "execution_count": 6,
   "id": "7679cf27-9f49-4bf1-926a-1414a82e05fd",
   "metadata": {},
   "outputs": [],
   "source": [
    "import mnist_loader\n",
    "training_data, validation_data, testing_data = mnist_loader.load_data_wrapper()"
   ]
  },
  {
   "cell_type": "code",
   "execution_count": 7,
   "id": "eb8530ef-bd27-4d7e-bd8d-26857ca3487b",
   "metadata": {},
   "outputs": [
    {
     "name": "stdout",
     "output_type": "stream",
     "text": [
      "Epoch 0 : 3680/10000\n",
      "Epoch 1 : 1881/10000\n",
      "Epoch 2 : 1839/10000\n",
      "Epoch 3 : 1939/10000\n",
      "Epoch 4 : 2758/10000\n",
      "Epoch 5 : 2790/10000\n",
      "Epoch 6 : 1780/10000\n"
     ]
    },
    {
     "name": "stderr",
     "output_type": "stream",
     "text": [
      "C:\\Users\\mcss\\AppData\\Local\\Temp\\ipykernel_8584\\2320250840.py:86: RuntimeWarning: overflow encountered in exp\n",
      "  return 1.0/(1.0 + np.exp(-z))\n"
     ]
    },
    {
     "name": "stdout",
     "output_type": "stream",
     "text": [
      "Epoch 7 : 2651/10000\n",
      "Epoch 8 : 2081/10000\n",
      "Epoch 9 : 2331/10000\n",
      "Epoch 10 : 2739/10000\n",
      "Epoch 11 : 1757/10000\n",
      "Epoch 12 : 2688/10000\n",
      "Epoch 13 : 2570/10000\n",
      "Epoch 14 : 2290/10000\n",
      "Epoch 15 : 2338/10000\n",
      "Epoch 16 : 2338/10000\n",
      "Epoch 17 : 2128/10000\n",
      "Epoch 18 : 1971/10000\n",
      "Epoch 19 : 2140/10000\n",
      "Epoch 20 : 2286/10000\n",
      "Epoch 21 : 1655/10000\n",
      "Epoch 22 : 2221/10000\n",
      "Epoch 23 : 2108/10000\n",
      "Epoch 24 : 2362/10000\n",
      "Epoch 25 : 2561/10000\n",
      "Epoch 26 : 2774/10000\n",
      "Epoch 27 : 2779/10000\n",
      "Epoch 28 : 3222/10000\n",
      "Epoch 29 : 3007/10000\n"
     ]
    }
   ],
   "source": [
    "net = Network([784, 30, 10])\n",
    "net.SGD(training_data, 30, 10, 3.0, test_data = testing_data)"
   ]
  }
 ],
 "metadata": {
  "kernelspec": {
   "display_name": "Python 3 (ipykernel)",
   "language": "python",
   "name": "python3"
  },
  "language_info": {
   "codemirror_mode": {
    "name": "ipython",
    "version": 3
   },
   "file_extension": ".py",
   "mimetype": "text/x-python",
   "name": "python",
   "nbconvert_exporter": "python",
   "pygments_lexer": "ipython3",
   "version": "3.12.4"
  }
 },
 "nbformat": 4,
 "nbformat_minor": 5
}
